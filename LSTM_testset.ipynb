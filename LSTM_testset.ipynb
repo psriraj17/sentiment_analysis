{
  "nbformat": 4,
  "nbformat_minor": 0,
  "metadata": {
    "colab": {
      "provenance": []
    },
    "kernelspec": {
      "name": "python3",
      "display_name": "Python 3"
    },
    "language_info": {
      "name": "python"
    }
  },
  "cells": [
    {
      "cell_type": "code",
      "execution_count": 13,
      "metadata": {
        "id": "-ja4weIuWQsj"
      },
      "outputs": [],
      "source": [
        "import pandas as pd\n",
        "import csv\n",
        "import numpy as np\n",
        "import seaborn as sns\n",
        "import string\n",
        "from sklearn.model_selection import train_test_split\n",
        "from keras.preprocessing.text import Tokenizer\n",
        "from sklearn.feature_extraction.text import CountVectorizer\n",
        "from keras.preprocessing.sequence import pad_sequences\n",
        "from sklearn.ensemble import RandomForestClassifier\n",
        "from sklearn.metrics import accuracy_score\n",
        "from sklearn.naive_bayes import GaussianNB\n",
        "import keras\n",
        "from keras.models import Sequential\n",
        "from keras.layers import BatchNormalization, Dense, Dropout, Activation\n",
        "from sklearn.svm import SVC\n",
        "from sklearn.preprocessing import StandardScaler\n",
        "from sklearn.model_selection import train_test_split, RandomizedSearchCV"
      ]
    },
    {
      "cell_type": "code",
      "source": [
        "from google.colab import drive\n",
        "drive.mount('/content/drive')\n",
        "%cd /content/drive/'MyDrive'\n",
        "%ls"
      ],
      "metadata": {
        "colab": {
          "base_uri": "https://localhost:8080/"
        },
        "id": "QJCwPs24WUlk",
        "outputId": "02a51941-0491-4336-858b-099af1939293"
      },
      "execution_count": 14,
      "outputs": [
        {
          "output_type": "stream",
          "name": "stdout",
          "text": [
            "Drive already mounted at /content/drive; to attempt to forcibly remount, call drive.mount(\"/content/drive\", force_remount=True).\n",
            "/content/drive/MyDrive\n",
            "'August Budget.gsheet'\n",
            " bigdata_project.gslides\n",
            " checkmodel.h5\n",
            " CN_Research.gdoc\n",
            "\u001b[0m\u001b[01;34m'Colab Notebooks'\u001b[0m/\n",
            " Cover_letter_Vijay_ML.pdf\n",
            "'Data from Marketing Team.csv'\n",
            "'Data from Marketing Team.xlsx'\n",
            "'DATA VISUALIZATION.gslides'\n",
            "'Declaration Form.gdoc'\n",
            "'Declaration Form.pdf'\n",
            " \u001b[01;34mDocuments\u001b[0m/\n",
            "'GSA Contract signed.pdf'\n",
            " Homework05_partII_train.csv\n",
            " IMG-2223.jpg\n",
            " IMG_2934.MOV\n",
            "'India things.gsheet'\n",
            " Ispraak_documentation.gdoc\n",
            "'Machine Learning Midterm Revision.gdoc'\n",
            "'May Budget.gsheet'\n",
            "'ML Udemy course notes.gdoc'\n",
            "'Money Compensation.gsheet'\n",
            "'Music Genre .ipynb'\n",
            "'Nonimmigrant Visa - Confirmation Page - Vijay Varshini.pdf'\n",
            " NYC.gdoc\n",
            " Resume.gdoc\n",
            "'Science project.gslides'\n",
            "'speech recognition.gslides'\n",
            "'Technical Debts.gdoc'\n",
            " test.tsv\n",
            "'To-do list.gsheet'\n",
            " train-v2.tsv\n",
            " Untitled0.ipynb\n",
            "'Untitled document (1).gdoc'\n",
            "'Untitled document (2).gdoc'\n",
            "'Untitled document (3).gdoc'\n",
            "'Untitled document (4).gdoc'\n",
            "'Untitled document (5).gdoc'\n",
            "'Untitled document (6).gdoc'\n",
            "'Untitled document (7).gdoc'\n",
            "'Untitled document (8).gdoc'\n",
            "'Untitled document (9).gdoc'\n",
            "'Untitled document.gdoc'\n",
            "'Untitled form.gform'\n",
            "'Untitled presentation.gslides'\n",
            "'Untitled spreadsheet.gsheet'\n",
            " VijayVarshini_ln20220216-1-ji1ms920220216-1-1ugufhf.pdf\n",
            " VijayVarshini.pdf\n",
            " VV_Resume.docx\n",
            " webinar_skcet.gslides\n"
          ]
        }
      ]
    },
    {
      "cell_type": "code",
      "source": [
        "test_df = pd.read_csv('test.tsv', sep=\"\\t\", header=None, quoting = csv.QUOTE_NONE)\n",
        "test_df"
      ],
      "metadata": {
        "colab": {
          "base_uri": "https://localhost:8080/",
          "height": 424
        },
        "id": "4Xep7UaSWcFf",
        "outputId": "29bbd85a-1d93-4a7c-b7a7-157dab880353"
      },
      "execution_count": 15,
      "outputs": [
        {
          "output_type": "execute_result",
          "data": {
            "text/plain": [
              "      0                                                  1\n",
              "0     0  @USER @USER nos sadwrn dwi fyd, rudimental a e...\n",
              "1     1  @USER @USER haia! Pob hwyl fory hogs. Cofiwch ...\n",
              "2     0  Loner trwy'r dydd heddiw yn ddiolchgar am cwmm...\n",
              "3     1  @USER good news, ma'r braid yn cal aros miwn! ...\n",
              "4     1  @USER Wi'n gobeithio ti'n cael nadolig gwych g...\n",
              "...  ..                                                ...\n",
              "9995  1  @USER Ahh scary D: Swni'n ofn mynd mwy na 10mp...\n",
              "9996  0  Ma'n neud i fi deimlo bach yn sâl mod i rwan w...\n",
              "9997  0  So ma Bac fi di gal ei ddewis i yrru ffwrdd, gret\n",
              "9998  1  Bore da a diolch am ein dilyn @USER a @USER! B...\n",
              "9999  0  @USER hia, mae'ch cyfrif yn breifat, methu ail...\n",
              "\n",
              "[10000 rows x 2 columns]"
            ],
            "text/html": [
              "\n",
              "  <div id=\"df-31dbdf03-3f21-4079-9252-b4f347bb4ab9\">\n",
              "    <div class=\"colab-df-container\">\n",
              "      <div>\n",
              "<style scoped>\n",
              "    .dataframe tbody tr th:only-of-type {\n",
              "        vertical-align: middle;\n",
              "    }\n",
              "\n",
              "    .dataframe tbody tr th {\n",
              "        vertical-align: top;\n",
              "    }\n",
              "\n",
              "    .dataframe thead th {\n",
              "        text-align: right;\n",
              "    }\n",
              "</style>\n",
              "<table border=\"1\" class=\"dataframe\">\n",
              "  <thead>\n",
              "    <tr style=\"text-align: right;\">\n",
              "      <th></th>\n",
              "      <th>0</th>\n",
              "      <th>1</th>\n",
              "    </tr>\n",
              "  </thead>\n",
              "  <tbody>\n",
              "    <tr>\n",
              "      <th>0</th>\n",
              "      <td>0</td>\n",
              "      <td>@USER @USER nos sadwrn dwi fyd, rudimental a e...</td>\n",
              "    </tr>\n",
              "    <tr>\n",
              "      <th>1</th>\n",
              "      <td>1</td>\n",
              "      <td>@USER @USER haia! Pob hwyl fory hogs. Cofiwch ...</td>\n",
              "    </tr>\n",
              "    <tr>\n",
              "      <th>2</th>\n",
              "      <td>0</td>\n",
              "      <td>Loner trwy'r dydd heddiw yn ddiolchgar am cwmm...</td>\n",
              "    </tr>\n",
              "    <tr>\n",
              "      <th>3</th>\n",
              "      <td>1</td>\n",
              "      <td>@USER good news, ma'r braid yn cal aros miwn! ...</td>\n",
              "    </tr>\n",
              "    <tr>\n",
              "      <th>4</th>\n",
              "      <td>1</td>\n",
              "      <td>@USER Wi'n gobeithio ti'n cael nadolig gwych g...</td>\n",
              "    </tr>\n",
              "    <tr>\n",
              "      <th>...</th>\n",
              "      <td>...</td>\n",
              "      <td>...</td>\n",
              "    </tr>\n",
              "    <tr>\n",
              "      <th>9995</th>\n",
              "      <td>1</td>\n",
              "      <td>@USER Ahh scary D: Swni'n ofn mynd mwy na 10mp...</td>\n",
              "    </tr>\n",
              "    <tr>\n",
              "      <th>9996</th>\n",
              "      <td>0</td>\n",
              "      <td>Ma'n neud i fi deimlo bach yn sâl mod i rwan w...</td>\n",
              "    </tr>\n",
              "    <tr>\n",
              "      <th>9997</th>\n",
              "      <td>0</td>\n",
              "      <td>So ma Bac fi di gal ei ddewis i yrru ffwrdd, gret</td>\n",
              "    </tr>\n",
              "    <tr>\n",
              "      <th>9998</th>\n",
              "      <td>1</td>\n",
              "      <td>Bore da a diolch am ein dilyn @USER a @USER! B...</td>\n",
              "    </tr>\n",
              "    <tr>\n",
              "      <th>9999</th>\n",
              "      <td>0</td>\n",
              "      <td>@USER hia, mae'ch cyfrif yn breifat, methu ail...</td>\n",
              "    </tr>\n",
              "  </tbody>\n",
              "</table>\n",
              "<p>10000 rows × 2 columns</p>\n",
              "</div>\n",
              "      <button class=\"colab-df-convert\" onclick=\"convertToInteractive('df-31dbdf03-3f21-4079-9252-b4f347bb4ab9')\"\n",
              "              title=\"Convert this dataframe to an interactive table.\"\n",
              "              style=\"display:none;\">\n",
              "        \n",
              "  <svg xmlns=\"http://www.w3.org/2000/svg\" height=\"24px\"viewBox=\"0 0 24 24\"\n",
              "       width=\"24px\">\n",
              "    <path d=\"M0 0h24v24H0V0z\" fill=\"none\"/>\n",
              "    <path d=\"M18.56 5.44l.94 2.06.94-2.06 2.06-.94-2.06-.94-.94-2.06-.94 2.06-2.06.94zm-11 1L8.5 8.5l.94-2.06 2.06-.94-2.06-.94L8.5 2.5l-.94 2.06-2.06.94zm10 10l.94 2.06.94-2.06 2.06-.94-2.06-.94-.94-2.06-.94 2.06-2.06.94z\"/><path d=\"M17.41 7.96l-1.37-1.37c-.4-.4-.92-.59-1.43-.59-.52 0-1.04.2-1.43.59L10.3 9.45l-7.72 7.72c-.78.78-.78 2.05 0 2.83L4 21.41c.39.39.9.59 1.41.59.51 0 1.02-.2 1.41-.59l7.78-7.78 2.81-2.81c.8-.78.8-2.07 0-2.86zM5.41 20L4 18.59l7.72-7.72 1.47 1.35L5.41 20z\"/>\n",
              "  </svg>\n",
              "      </button>\n",
              "      \n",
              "  <style>\n",
              "    .colab-df-container {\n",
              "      display:flex;\n",
              "      flex-wrap:wrap;\n",
              "      gap: 12px;\n",
              "    }\n",
              "\n",
              "    .colab-df-convert {\n",
              "      background-color: #E8F0FE;\n",
              "      border: none;\n",
              "      border-radius: 50%;\n",
              "      cursor: pointer;\n",
              "      display: none;\n",
              "      fill: #1967D2;\n",
              "      height: 32px;\n",
              "      padding: 0 0 0 0;\n",
              "      width: 32px;\n",
              "    }\n",
              "\n",
              "    .colab-df-convert:hover {\n",
              "      background-color: #E2EBFA;\n",
              "      box-shadow: 0px 1px 2px rgba(60, 64, 67, 0.3), 0px 1px 3px 1px rgba(60, 64, 67, 0.15);\n",
              "      fill: #174EA6;\n",
              "    }\n",
              "\n",
              "    [theme=dark] .colab-df-convert {\n",
              "      background-color: #3B4455;\n",
              "      fill: #D2E3FC;\n",
              "    }\n",
              "\n",
              "    [theme=dark] .colab-df-convert:hover {\n",
              "      background-color: #434B5C;\n",
              "      box-shadow: 0px 1px 3px 1px rgba(0, 0, 0, 0.15);\n",
              "      filter: drop-shadow(0px 1px 2px rgba(0, 0, 0, 0.3));\n",
              "      fill: #FFFFFF;\n",
              "    }\n",
              "  </style>\n",
              "\n",
              "      <script>\n",
              "        const buttonEl =\n",
              "          document.querySelector('#df-31dbdf03-3f21-4079-9252-b4f347bb4ab9 button.colab-df-convert');\n",
              "        buttonEl.style.display =\n",
              "          google.colab.kernel.accessAllowed ? 'block' : 'none';\n",
              "\n",
              "        async function convertToInteractive(key) {\n",
              "          const element = document.querySelector('#df-31dbdf03-3f21-4079-9252-b4f347bb4ab9');\n",
              "          const dataTable =\n",
              "            await google.colab.kernel.invokeFunction('convertToInteractive',\n",
              "                                                     [key], {});\n",
              "          if (!dataTable) return;\n",
              "\n",
              "          const docLinkHtml = 'Like what you see? Visit the ' +\n",
              "            '<a target=\"_blank\" href=https://colab.research.google.com/notebooks/data_table.ipynb>data table notebook</a>'\n",
              "            + ' to learn more about interactive tables.';\n",
              "          element.innerHTML = '';\n",
              "          dataTable['output_type'] = 'display_data';\n",
              "          await google.colab.output.renderOutput(dataTable, element);\n",
              "          const docLink = document.createElement('div');\n",
              "          docLink.innerHTML = docLinkHtml;\n",
              "          element.appendChild(docLink);\n",
              "        }\n",
              "      </script>\n",
              "    </div>\n",
              "  </div>\n",
              "  "
            ]
          },
          "metadata": {},
          "execution_count": 15
        }
      ]
    },
    {
      "cell_type": "code",
      "source": [
        "test_df.rename(columns={0: 'Target', 1: 'Text'}, inplace=True)\n",
        "test_df"
      ],
      "metadata": {
        "colab": {
          "base_uri": "https://localhost:8080/",
          "height": 424
        },
        "id": "XugCUJpHWksF",
        "outputId": "9d14119a-7268-4d51-e458-5450bfac8033"
      },
      "execution_count": 16,
      "outputs": [
        {
          "output_type": "execute_result",
          "data": {
            "text/plain": [
              "      Target                                               Text\n",
              "0          0  @USER @USER nos sadwrn dwi fyd, rudimental a e...\n",
              "1          1  @USER @USER haia! Pob hwyl fory hogs. Cofiwch ...\n",
              "2          0  Loner trwy'r dydd heddiw yn ddiolchgar am cwmm...\n",
              "3          1  @USER good news, ma'r braid yn cal aros miwn! ...\n",
              "4          1  @USER Wi'n gobeithio ti'n cael nadolig gwych g...\n",
              "...      ...                                                ...\n",
              "9995       1  @USER Ahh scary D: Swni'n ofn mynd mwy na 10mp...\n",
              "9996       0  Ma'n neud i fi deimlo bach yn sâl mod i rwan w...\n",
              "9997       0  So ma Bac fi di gal ei ddewis i yrru ffwrdd, gret\n",
              "9998       1  Bore da a diolch am ein dilyn @USER a @USER! B...\n",
              "9999       0  @USER hia, mae'ch cyfrif yn breifat, methu ail...\n",
              "\n",
              "[10000 rows x 2 columns]"
            ],
            "text/html": [
              "\n",
              "  <div id=\"df-89cb2e75-461f-4705-96be-059b41063ce6\">\n",
              "    <div class=\"colab-df-container\">\n",
              "      <div>\n",
              "<style scoped>\n",
              "    .dataframe tbody tr th:only-of-type {\n",
              "        vertical-align: middle;\n",
              "    }\n",
              "\n",
              "    .dataframe tbody tr th {\n",
              "        vertical-align: top;\n",
              "    }\n",
              "\n",
              "    .dataframe thead th {\n",
              "        text-align: right;\n",
              "    }\n",
              "</style>\n",
              "<table border=\"1\" class=\"dataframe\">\n",
              "  <thead>\n",
              "    <tr style=\"text-align: right;\">\n",
              "      <th></th>\n",
              "      <th>Target</th>\n",
              "      <th>Text</th>\n",
              "    </tr>\n",
              "  </thead>\n",
              "  <tbody>\n",
              "    <tr>\n",
              "      <th>0</th>\n",
              "      <td>0</td>\n",
              "      <td>@USER @USER nos sadwrn dwi fyd, rudimental a e...</td>\n",
              "    </tr>\n",
              "    <tr>\n",
              "      <th>1</th>\n",
              "      <td>1</td>\n",
              "      <td>@USER @USER haia! Pob hwyl fory hogs. Cofiwch ...</td>\n",
              "    </tr>\n",
              "    <tr>\n",
              "      <th>2</th>\n",
              "      <td>0</td>\n",
              "      <td>Loner trwy'r dydd heddiw yn ddiolchgar am cwmm...</td>\n",
              "    </tr>\n",
              "    <tr>\n",
              "      <th>3</th>\n",
              "      <td>1</td>\n",
              "      <td>@USER good news, ma'r braid yn cal aros miwn! ...</td>\n",
              "    </tr>\n",
              "    <tr>\n",
              "      <th>4</th>\n",
              "      <td>1</td>\n",
              "      <td>@USER Wi'n gobeithio ti'n cael nadolig gwych g...</td>\n",
              "    </tr>\n",
              "    <tr>\n",
              "      <th>...</th>\n",
              "      <td>...</td>\n",
              "      <td>...</td>\n",
              "    </tr>\n",
              "    <tr>\n",
              "      <th>9995</th>\n",
              "      <td>1</td>\n",
              "      <td>@USER Ahh scary D: Swni'n ofn mynd mwy na 10mp...</td>\n",
              "    </tr>\n",
              "    <tr>\n",
              "      <th>9996</th>\n",
              "      <td>0</td>\n",
              "      <td>Ma'n neud i fi deimlo bach yn sâl mod i rwan w...</td>\n",
              "    </tr>\n",
              "    <tr>\n",
              "      <th>9997</th>\n",
              "      <td>0</td>\n",
              "      <td>So ma Bac fi di gal ei ddewis i yrru ffwrdd, gret</td>\n",
              "    </tr>\n",
              "    <tr>\n",
              "      <th>9998</th>\n",
              "      <td>1</td>\n",
              "      <td>Bore da a diolch am ein dilyn @USER a @USER! B...</td>\n",
              "    </tr>\n",
              "    <tr>\n",
              "      <th>9999</th>\n",
              "      <td>0</td>\n",
              "      <td>@USER hia, mae'ch cyfrif yn breifat, methu ail...</td>\n",
              "    </tr>\n",
              "  </tbody>\n",
              "</table>\n",
              "<p>10000 rows × 2 columns</p>\n",
              "</div>\n",
              "      <button class=\"colab-df-convert\" onclick=\"convertToInteractive('df-89cb2e75-461f-4705-96be-059b41063ce6')\"\n",
              "              title=\"Convert this dataframe to an interactive table.\"\n",
              "              style=\"display:none;\">\n",
              "        \n",
              "  <svg xmlns=\"http://www.w3.org/2000/svg\" height=\"24px\"viewBox=\"0 0 24 24\"\n",
              "       width=\"24px\">\n",
              "    <path d=\"M0 0h24v24H0V0z\" fill=\"none\"/>\n",
              "    <path d=\"M18.56 5.44l.94 2.06.94-2.06 2.06-.94-2.06-.94-.94-2.06-.94 2.06-2.06.94zm-11 1L8.5 8.5l.94-2.06 2.06-.94-2.06-.94L8.5 2.5l-.94 2.06-2.06.94zm10 10l.94 2.06.94-2.06 2.06-.94-2.06-.94-.94-2.06-.94 2.06-2.06.94z\"/><path d=\"M17.41 7.96l-1.37-1.37c-.4-.4-.92-.59-1.43-.59-.52 0-1.04.2-1.43.59L10.3 9.45l-7.72 7.72c-.78.78-.78 2.05 0 2.83L4 21.41c.39.39.9.59 1.41.59.51 0 1.02-.2 1.41-.59l7.78-7.78 2.81-2.81c.8-.78.8-2.07 0-2.86zM5.41 20L4 18.59l7.72-7.72 1.47 1.35L5.41 20z\"/>\n",
              "  </svg>\n",
              "      </button>\n",
              "      \n",
              "  <style>\n",
              "    .colab-df-container {\n",
              "      display:flex;\n",
              "      flex-wrap:wrap;\n",
              "      gap: 12px;\n",
              "    }\n",
              "\n",
              "    .colab-df-convert {\n",
              "      background-color: #E8F0FE;\n",
              "      border: none;\n",
              "      border-radius: 50%;\n",
              "      cursor: pointer;\n",
              "      display: none;\n",
              "      fill: #1967D2;\n",
              "      height: 32px;\n",
              "      padding: 0 0 0 0;\n",
              "      width: 32px;\n",
              "    }\n",
              "\n",
              "    .colab-df-convert:hover {\n",
              "      background-color: #E2EBFA;\n",
              "      box-shadow: 0px 1px 2px rgba(60, 64, 67, 0.3), 0px 1px 3px 1px rgba(60, 64, 67, 0.15);\n",
              "      fill: #174EA6;\n",
              "    }\n",
              "\n",
              "    [theme=dark] .colab-df-convert {\n",
              "      background-color: #3B4455;\n",
              "      fill: #D2E3FC;\n",
              "    }\n",
              "\n",
              "    [theme=dark] .colab-df-convert:hover {\n",
              "      background-color: #434B5C;\n",
              "      box-shadow: 0px 1px 3px 1px rgba(0, 0, 0, 0.15);\n",
              "      filter: drop-shadow(0px 1px 2px rgba(0, 0, 0, 0.3));\n",
              "      fill: #FFFFFF;\n",
              "    }\n",
              "  </style>\n",
              "\n",
              "      <script>\n",
              "        const buttonEl =\n",
              "          document.querySelector('#df-89cb2e75-461f-4705-96be-059b41063ce6 button.colab-df-convert');\n",
              "        buttonEl.style.display =\n",
              "          google.colab.kernel.accessAllowed ? 'block' : 'none';\n",
              "\n",
              "        async function convertToInteractive(key) {\n",
              "          const element = document.querySelector('#df-89cb2e75-461f-4705-96be-059b41063ce6');\n",
              "          const dataTable =\n",
              "            await google.colab.kernel.invokeFunction('convertToInteractive',\n",
              "                                                     [key], {});\n",
              "          if (!dataTable) return;\n",
              "\n",
              "          const docLinkHtml = 'Like what you see? Visit the ' +\n",
              "            '<a target=\"_blank\" href=https://colab.research.google.com/notebooks/data_table.ipynb>data table notebook</a>'\n",
              "            + ' to learn more about interactive tables.';\n",
              "          element.innerHTML = '';\n",
              "          dataTable['output_type'] = 'display_data';\n",
              "          await google.colab.output.renderOutput(dataTable, element);\n",
              "          const docLink = document.createElement('div');\n",
              "          docLink.innerHTML = docLinkHtml;\n",
              "          element.appendChild(docLink);\n",
              "        }\n",
              "      </script>\n",
              "    </div>\n",
              "  </div>\n",
              "  "
            ]
          },
          "metadata": {},
          "execution_count": 16
        }
      ]
    },
    {
      "cell_type": "code",
      "source": [
        "username=['@USER']\n",
        "#This piece of code was taken from https://www.analyticsvidhya.com/blog/2021/06/twitter-sentiment-analysis-a-nlp-use-case-for-beginners/\n",
        "def cleaning_stopwords(text):\n",
        "    return \" \".join([word for word in str(text).split() if word not in username])\n",
        "test_df['Text'] = test_df['Text'].apply(lambda text: cleaning_stopwords(text))\n",
        "test_df['Text'].head()"
      ],
      "metadata": {
        "colab": {
          "base_uri": "https://localhost:8080/"
        },
        "id": "xf_8yzQyWpC9",
        "outputId": "ee5f5cef-e05c-45c7-ad34-e6b881e9821f"
      },
      "execution_count": 17,
      "outputs": [
        {
          "output_type": "execute_result",
          "data": {
            "text/plain": [
              "0    nos sadwrn dwi fyd, rudimental a ella yn suppo...\n",
              "1    haia! Pob hwyl fory hogs. Cofiwch wenu. Welai ...\n",
              "2    Loner trwy'r dydd heddiw yn ddiolchgar am cwmm...\n",
              "3    good news, ma'r braid yn cal aros miwn! Haha! ...\n",
              "4    Wi'n gobeithio ti'n cael nadolig gwych gyda ei...\n",
              "Name: Text, dtype: object"
            ]
          },
          "metadata": {},
          "execution_count": 17
        }
      ]
    },
    {
      "cell_type": "code",
      "source": [
        "punct_list=string.punctuation\n",
        "def cleaning_punctuations(text):\n",
        "    translator = str.maketrans('', '', punct_list)\n",
        "    return text.translate(translator)\n",
        "test_df['Text']= test_df['Text'].apply(lambda x: cleaning_punctuations(x))\n",
        "test_df['Text'].head()"
      ],
      "metadata": {
        "colab": {
          "base_uri": "https://localhost:8080/"
        },
        "id": "bNNUV5O3Wvh6",
        "outputId": "b3c8d600-c0bd-447c-adf7-a03ca629e276"
      },
      "execution_count": 18,
      "outputs": [
        {
          "output_type": "execute_result",
          "data": {
            "text/plain": [
              "0    nos sadwrn dwi fyd rudimental a ella yn suppor...\n",
              "1    haia Pob hwyl fory hogs Cofiwch wenu Welai chi...\n",
              "2    Loner trwyr dydd heddiw yn ddiolchgar am cwmmn...\n",
              "3    good news mar braid yn cal aros miwn Haha Dwin...\n",
              "4    Win gobeithio tin cael nadolig gwych gyda eich...\n",
              "Name: Text, dtype: object"
            ]
          },
          "metadata": {},
          "execution_count": 18
        }
      ]
    },
    {
      "cell_type": "code",
      "source": [
        "emojis = {':)': 'smile', ':-)': 'smile', ';d': 'wink', ':-E': 'vampire', ':(': 'sad', \n",
        "          ':-(': 'sad', ':-<': 'sad', ':P': 'raspberry', ':O': 'surprised',\n",
        "          ':-@': 'shocked', ':@': 'shocked',':-$': 'confused', ':\\\\': 'annoyed', \n",
        "          ':#': 'mute', ':X': 'mute', ':^)': 'smile', ':-&': 'confused', '$_$': 'greedy',\n",
        "          '@@': 'eyeroll', ':-!': 'confused', ':-D': 'smile', ':-0': 'yell', 'O.o': 'confused',\n",
        "          '<(-_-)>': 'robot', 'd[-_-]b': 'dj', \":'-)\": 'sadsmile', ';)': 'wink', \n",
        "          ';-)': 'wink', 'O:-)': 'angel','O*-)': 'angel','(:-D': 'gossip', '=^.^=': 'cat'}"
      ],
      "metadata": {
        "id": "lhgAoiR5Wynt"
      },
      "execution_count": 19,
      "outputs": []
    },
    {
      "cell_type": "code",
      "source": [
        "import nltk\n",
        "import re\n",
        "from nltk.stem import PorterStemmer\n",
        "from string import punctuation\n",
        "\n",
        "porter=PorterStemmer()\n",
        "def tweet_to_words(tweet):  \n",
        "   # convert to lowercase\n",
        "    text = tweet.lower()\n",
        "    # remove non letters\n",
        "    text = re.sub(r\"[^a-zA-Z0-9]\", \" \", text)\n",
        "    #emove punctuation\n",
        "    text = re.sub(f\"[{re.escape(punctuation)}]\", \"\", tweet)\n",
        "    # tokenize\n",
        "    words = text.split()\n",
        "    # apply stemming\n",
        "    words = [porter.stem(w) for w in words]\n",
        "    #remove emoji\n",
        "    for emoji in emojis.keys():\n",
        "            tweet = tweet.replace(emoji, \"EMOJI\" + emojis[emoji]) \n",
        "    # return list\n",
        "    return words\n",
        "\n",
        "\n",
        "print(\"\\nOriginal tweet ->\", test_df['Text'][0])\n",
        "print(\"\\nProcessed tweet ->\", tweet_to_words(test_df['Text'][0]))"
      ],
      "metadata": {
        "colab": {
          "base_uri": "https://localhost:8080/"
        },
        "id": "GYG-Nw-WXJZ_",
        "outputId": "21bafada-c19e-4557-fb05-ac0086287f11"
      },
      "execution_count": 20,
      "outputs": [
        {
          "output_type": "stream",
          "name": "stdout",
          "text": [
            "\n",
            "Original tweet -> nos sadwrn dwi fyd rudimental a ella yn supportio nwn mnd i fod n imens Oooond bastille whatapickle\n",
            "\n",
            "Processed tweet -> ['no', 'sadwrn', 'dwi', 'fyd', 'rudiment', 'a', 'ella', 'yn', 'supportio', 'nwn', 'mnd', 'i', 'fod', 'n', 'imen', 'oooond', 'bastil', 'whatapickl']\n"
          ]
        }
      ]
    },
    {
      "cell_type": "code",
      "source": [
        "X = list(map(tweet_to_words, test_df['Text']))"
      ],
      "metadata": {
        "id": "xG2L0WxRapt5"
      },
      "execution_count": 23,
      "outputs": []
    },
    {
      "cell_type": "code",
      "source": [
        "from sklearn.preprocessing import LabelEncoder\n",
        "# Encode target labels\n",
        "le = LabelEncoder()\n",
        "y = le.fit_transform(test_df['Target'])"
      ],
      "metadata": {
        "id": "o7q4Di5NayIL"
      },
      "execution_count": 25,
      "outputs": []
    },
    {
      "cell_type": "code",
      "source": [
        "X_train, X_test, y_train, y_test = train_test_split(X, y, test_size=0.2, random_state=1)\n",
        "X_train, X_val, y_train, y_val = train_test_split(X_train, y_train, test_size=0.2, random_state=1)"
      ],
      "metadata": {
        "id": "osa6dN2da1kd"
      },
      "execution_count": 26,
      "outputs": []
    },
    {
      "cell_type": "code",
      "source": [
        "words=test_df['Text'].tolist()\n",
        "word2 = ' '.join([str(element) for element in words]) "
      ],
      "metadata": {
        "id": "mvzkulsGas84"
      },
      "execution_count": 27,
      "outputs": []
    },
    {
      "cell_type": "code",
      "source": [
        "length_test = len(word2)\n",
        "length_test"
      ],
      "metadata": {
        "colab": {
          "base_uri": "https://localhost:8080/"
        },
        "id": "qbl2gwWHa657",
        "outputId": "ad3c225a-4453-40f5-bc5c-c3c14e3b2785"
      },
      "execution_count": 28,
      "outputs": [
        {
          "output_type": "execute_result",
          "data": {
            "text/plain": [
              "675479"
            ]
          },
          "metadata": {},
          "execution_count": 28
        }
      ]
    },
    {
      "cell_type": "code",
      "source": [
        "from sklearn.feature_extraction.text import CountVectorizer\n",
        "\n",
        "vocabulary_size = 500\n",
        "\n",
        "# Tweets have already been preprocessed hence dummy function will be passed in \n",
        "# to preprocessor & tokenizer step\n",
        "count_vector = CountVectorizer(max_features=vocabulary_size,\n",
        "                                ngram_range=(1,2),    # unigram and bigram\n",
        "                                preprocessor=lambda x: x,\n",
        "                               tokenizer=lambda x: x) \n",
        "#tfidf_vector = TfidfVectorizer(lowercase=True, stop_words='english')\n",
        "\n",
        "# Fit the training data\n",
        "X_train_new = count_vector.fit_transform(X_train).toarray()\n",
        "\n",
        "# Transform testing data\n",
        "X_test_new = count_vector.transform(X_test).toarray()"
      ],
      "metadata": {
        "id": "v3Pp__BMa-ew"
      },
      "execution_count": 29,
      "outputs": []
    },
    {
      "cell_type": "code",
      "source": [
        "print(count_vector.get_feature_names()[0:2])"
      ],
      "metadata": {
        "colab": {
          "base_uri": "https://localhost:8080/"
        },
        "id": "cFDsnMUkbDQ7",
        "outputId": "08c7e223-009c-4358-cbcc-4a2e9b76e9bd"
      },
      "execution_count": 31,
      "outputs": [
        {
          "output_type": "stream",
          "name": "stdout",
          "text": [
            "['1', '10']\n"
          ]
        }
      ]
    },
    {
      "cell_type": "code",
      "source": [
        "from keras.preprocessing.text import Tokenizer\n",
        "from keras.preprocessing.sequence import pad_sequences\n",
        "\n",
        "max_words = 5000\n",
        "max_len=100\n",
        "\n",
        "def tokenize_pad_sequences(text):\n",
        "    '''\n",
        "    This function tokenize the input text into sequnences of intergers and then\n",
        "    pad each sequence to the same length\n",
        "    '''\n",
        "    # Text tokenization\n",
        "    tokenizer = Tokenizer(num_words=max_words, lower=True, split=' ')\n",
        "    tokenizer.fit_on_texts(text)\n",
        "    # Transforms text to a sequence of integers\n",
        "    X = tokenizer.texts_to_sequences(text)\n",
        "    # Pad sequences to the same length\n",
        "    X = pad_sequences(X, padding='post', maxlen=max_len)\n",
        "    # return sequences\n",
        "    return X, tokenizer\n",
        "\n",
        "print('Before Tokenization & Padding \\n', test_df['Text'][0])\n",
        "X, tokenizer = tokenize_pad_sequences(test_df['Text'])\n",
        "print('After Tokenization & Padding \\n', X[0])"
      ],
      "metadata": {
        "colab": {
          "base_uri": "https://localhost:8080/"
        },
        "id": "F-du6LckbGPr",
        "outputId": "a0b97eb9-38b1-4452-c697-332a7dc71e49"
      },
      "execution_count": 32,
      "outputs": [
        {
          "output_type": "stream",
          "name": "stdout",
          "text": [
            "Before Tokenization & Padding \n",
            " nos sadwrn dwi fyd rudimental a ella yn supportio nwn mnd i fod n imens Oooond bastille whatapickle\n",
            "After Tokenization & Padding \n",
            " [  70  272   12   87    3  286    1 1301 1095    2   33   92 4579    0\n",
            "    0    0    0    0    0    0    0    0    0    0    0    0    0    0\n",
            "    0    0    0    0    0    0    0    0    0    0    0    0    0    0\n",
            "    0    0    0    0    0    0    0    0    0    0    0    0    0    0\n",
            "    0    0    0    0    0    0    0    0    0    0    0    0    0    0\n",
            "    0    0    0    0    0    0    0    0    0    0    0    0    0    0\n",
            "    0    0    0    0    0    0    0    0    0    0    0    0    0    0\n",
            "    0    0]\n"
          ]
        }
      ]
    },
    {
      "cell_type": "code",
      "source": [
        "X_train, X_test, y_train, y_test = train_test_split(X, y, test_size=0.2, random_state=1)\n",
        "X_train, X_val, y_train, y_val = train_test_split(X_train, y_train, test_size=0.2, random_state=1)"
      ],
      "metadata": {
        "id": "FeCuIaJLbNVY"
      },
      "execution_count": 33,
      "outputs": []
    },
    {
      "cell_type": "code",
      "source": [
        "maxlen = 100\n",
        "X_train_pad = pad_sequences(X_train_new, padding='post', maxlen=maxlen)\n",
        "X_test_pad = pad_sequences(X_test_new, padding='post', maxlen=maxlen)\n",
        "X_train_pad.shape"
      ],
      "metadata": {
        "colab": {
          "base_uri": "https://localhost:8080/"
        },
        "id": "uqdtVZNIbPL5",
        "outputId": "c0261a1e-6282-4f6f-bd58-f37d8fb5c38e"
      },
      "execution_count": 35,
      "outputs": [
        {
          "output_type": "execute_result",
          "data": {
            "text/plain": [
              "(6400, 100)"
            ]
          },
          "metadata": {},
          "execution_count": 35
        }
      ]
    },
    {
      "cell_type": "code",
      "source": [
        "from sklearn.linear_model import LogisticRegression\n",
        "from sklearn.metrics import accuracy_score\n",
        "\n",
        "clf = LogisticRegression()\n",
        "clf.fit(X_train_pad, y_train)\n",
        "l_pred=clf.predict(X_test_pad)\n",
        "print(accuracy_score(y_test, l_pred))"
      ],
      "metadata": {
        "colab": {
          "base_uri": "https://localhost:8080/"
        },
        "id": "TKk2RtCxbVZS",
        "outputId": "d033d774-0eca-4437-bce3-a2d05c4c1aaa"
      },
      "execution_count": 36,
      "outputs": [
        {
          "output_type": "stream",
          "name": "stdout",
          "text": [
            "0.577\n"
          ]
        }
      ]
    },
    {
      "cell_type": "code",
      "source": [
        "from keras.callbacks import EarlyStopping, ModelCheckpoint\n",
        "from keras.models import Sequential\n",
        "from keras.layers import Dense\n",
        "from sklearn.model_selection import train_test_split\n",
        "from keras.layers import Conv1D,GlobalMaxPooling1D,MaxPooling1D \n",
        "from keras import regularizers\n",
        "from keras.layers import Flatten,BatchNormalization,Dropout\n",
        "from tensorflow.keras.layers import Embedding\n",
        "from tensorflow.keras.layers import LSTM\n",
        "from tensorflow.keras import layers\n",
        "\n",
        "keras_callbacks   = [\n",
        "      EarlyStopping(monitor='val_loss', patience=10, mode='min', min_delta=0.0001),\n",
        "      ModelCheckpoint('./checkmodel.h5', monitor='val_loss', save_best_only=True, mode='min')\n",
        "]\n",
        "\n",
        "vocab_size=5000\n",
        "maxlen=100\n",
        "embedding_dim=50\n",
        "\n",
        "\n",
        "model = Sequential() # create Sequential model\n",
        "model.add(Embedding(input_dim=vocab_size, \n",
        "                           output_dim=embedding_dim, \n",
        "                           input_length=maxlen))\n",
        "model.add(LSTM(100,dropout=0.3, recurrent_dropout=0.2))\n",
        "model.add(Dense(1, activation = 'sigmoid')) \n",
        "model.compile(loss = \"binary_crossentropy\", optimizer = \"adam\", metrics = ['accuracy'])\n",
        "\n",
        "train_history = model.fit(X_train_pad,y_train, validation_split=0.1, batch_size = 10, epochs = 7, callbacks=keras_callbacks)"
      ],
      "metadata": {
        "colab": {
          "base_uri": "https://localhost:8080/"
        },
        "id": "H2a55lGQbWvC",
        "outputId": "d31ad218-44a8-411a-9887-341454f844c1"
      },
      "execution_count": 38,
      "outputs": [
        {
          "output_type": "stream",
          "name": "stdout",
          "text": [
            "Epoch 1/7\n",
            "576/576 [==============================] - 83s 139ms/step - loss: 0.6940 - accuracy: 0.4991 - val_loss: 0.6943 - val_accuracy: 0.4844\n",
            "Epoch 2/7\n",
            "576/576 [==============================] - 82s 142ms/step - loss: 0.6930 - accuracy: 0.5016 - val_loss: 0.6955 - val_accuracy: 0.4859\n",
            "Epoch 3/7\n",
            "576/576 [==============================] - 78s 136ms/step - loss: 0.6915 - accuracy: 0.5075 - val_loss: 0.6946 - val_accuracy: 0.4891\n",
            "Epoch 4/7\n",
            "576/576 [==============================] - 76s 133ms/step - loss: 0.6905 - accuracy: 0.5155 - val_loss: 0.6986 - val_accuracy: 0.4922\n",
            "Epoch 5/7\n",
            "576/576 [==============================] - 78s 136ms/step - loss: 0.6899 - accuracy: 0.5115 - val_loss: 0.6955 - val_accuracy: 0.5094\n",
            "Epoch 6/7\n",
            "576/576 [==============================] - 79s 137ms/step - loss: 0.6893 - accuracy: 0.5189 - val_loss: 0.6941 - val_accuracy: 0.5359\n",
            "Epoch 7/7\n",
            "576/576 [==============================] - 78s 136ms/step - loss: 0.6886 - accuracy: 0.5122 - val_loss: 0.6958 - val_accuracy: 0.5109\n"
          ]
        }
      ]
    },
    {
      "cell_type": "code",
      "source": [
        "pred_model_test = model.predict(X_test_pad)"
      ],
      "metadata": {
        "id": "qBk_P7EjdoFN"
      },
      "execution_count": 40,
      "outputs": []
    },
    {
      "cell_type": "code",
      "source": [
        "loss, accuracy = model.evaluate(X_train_pad, y_train, verbose=False)\n",
        "print(\"Training Accuracy: {:.4f}\".format(accuracy))\n",
        "loss, accuracy = model.evaluate(X_test_pad, y_test, verbose=False)\n",
        "print(\"Testing Accuracy:  {:.4f}\".format(accuracy))"
      ],
      "metadata": {
        "colab": {
          "base_uri": "https://localhost:8080/"
        },
        "id": "oqm3LOpddqYT",
        "outputId": "fd30e56a-161e-4d96-a8d0-6928f27b36d9"
      },
      "execution_count": 41,
      "outputs": [
        {
          "output_type": "stream",
          "name": "stdout",
          "text": [
            "Training Accuracy: 0.5200\n",
            "Testing Accuracy:  0.5300\n"
          ]
        }
      ]
    },
    {
      "cell_type": "code",
      "source": [
        "import matplotlib.pyplot as plt\n",
        "def plot_training_hist(history):\n",
        "    '''Function to plot history for accuracy and loss'''\n",
        "    \n",
        "    fig, ax = plt.subplots(1, 2, figsize=(10,4))\n",
        "    # first plot\n",
        "    ax[0].plot(history.history['accuracy'])\n",
        "    ax[0].plot(history.history['val_accuracy'])\n",
        "    ax[0].set_title('Model Accuracy')\n",
        "    ax[0].set_xlabel('epoch')\n",
        "    ax[0].set_ylabel('accuracy')\n",
        "    ax[0].legend(['train', 'validation'], loc='best')\n",
        "    # second plot\n",
        "    ax[1].plot(history.history['loss'])\n",
        "    ax[1].plot(history.history['val_loss'])\n",
        "    ax[1].set_title('Model Loss')\n",
        "    ax[1].set_xlabel('epoch')\n",
        "    ax[1].set_ylabel('loss')\n",
        "    ax[1].legend(['train', 'validation'], loc='best')\n",
        "    \n",
        "plot_training_hist(train_history)"
      ],
      "metadata": {
        "colab": {
          "base_uri": "https://localhost:8080/",
          "height": 295
        },
        "id": "wPN25hkedyTB",
        "outputId": "e1ccb360-bc74-42d3-fbf9-45b893684d47"
      },
      "execution_count": 42,
      "outputs": [
        {
          "output_type": "display_data",
          "data": {
            "text/plain": [
              "<Figure size 720x288 with 2 Axes>"
            ],
            "image/png": "[encoded data removed]"
          },
          "metadata": {
            "needs_background": "light"
          }
        }
      ]
    }
  ]
}