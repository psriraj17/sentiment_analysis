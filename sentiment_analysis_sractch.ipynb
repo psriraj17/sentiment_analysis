{
  "nbformat": 4,
  "nbformat_minor": 0,
  "metadata": {
    "colab": {
      "provenance": [],
      "collapsed_sections": [],
      "private_outputs": true,
      "authorship_tag": "ABX9TyPQRJJqpO1Gl84+lCCVs2ix",
      "include_colab_link": true
    },
    "kernelspec": {
      "name": "python3",
      "display_name": "Python 3"
    },
    "language_info": {
      "name": "python"
    }
  },
  "cells": [
    {
      "cell_type": "markdown",
      "metadata": {
        "id": "view-in-github",
        "colab_type": "text"
      },
      "source": [
        "<a href=\"https://colab.research.google.com/github/saravanamuthu1/sentiment_analysis/blob/main/sentiment_analysis_sractch.ipynb\" target=\"_parent\"><img src=\"https://colab.research.google.com/assets/colab-badge.svg\" alt=\"Open In Colab\"/></a>"
      ]
    },
    {
      "cell_type": "code",
      "execution_count": null,
      "metadata": {
        "id": "NsmTGAPZpG6h"
      },
      "outputs": [],
      "source": [
        "mylist=[]\n",
        "label=[]\n",
        "value1=[]\n",
        "testfile = open('train-v2.tsv', 'r')\n",
        "for line in testfile:\n",
        "  value=line.rstrip(\"\\n\").split(\"\\t\")\n",
        "  mylist.append(line.rstrip(\"\\n\").split(\"\\t\"))\n",
        "  label.append(value[0])\n",
        "  value1.append(value[1])\n"
      ]
    },
    {
      "cell_type": "code",
      "source": [
        "print(len(label))\n",
        "print(len(value1))\n",
        "print(len(mylist))"
      ],
      "metadata": {
        "id": "QcP8kukJtWa0"
      },
      "execution_count": null,
      "outputs": []
    },
    {
      "cell_type": "code",
      "source": [
        "train_set,test_set=value1[10000:80000],value1[0:10000]\n",
        "train_label,test_lable=label[10000:80000],label[0:10000]"
      ],
      "metadata": {
        "id": "SZKD6lt6_N8K"
      },
      "execution_count": null,
      "outputs": []
    },
    {
      "cell_type": "code",
      "source": [
        "def remove_word(list_to_be_removed):\n",
        "  for i,j in enumerate(list_to_be_removed):\n",
        "    text = j.replace(\"@USER\", \"\")\n",
        "    list_to_be_removed.insert(i,text)\n",
        "  return list_to_be_removed\n",
        "\n",
        "\n"
      ],
      "metadata": {
        "id": "y5sFeLB-Co1_"
      },
      "execution_count": null,
      "outputs": []
    },
    {
      "cell_type": "markdown",
      "source": [
        "tokenize data"
      ],
      "metadata": {
        "id": "PHlY4eDWI1w1"
      }
    },
    {
      "cell_type": "markdown",
      "source": [
        "get the probability"
      ],
      "metadata": {
        "id": "tLalRUlmI6Rd"
      }
    },
    {
      "cell_type": "markdown",
      "source": [],
      "metadata": {
        "id": "wPHV6Qbtm-k1"
      }
    },
    {
      "cell_type": "code",
      "source": [
        "import pandas as pd\n",
        "import numpy as np\n",
        "from sklearn.metrics import accuracy_score\n",
        "import re"
      ],
      "metadata": {
        "id": "o6K1EdiglRZ_"
      },
      "execution_count": null,
      "outputs": []
    },
    {
      "cell_type": "code",
      "source": [
        "df=pd.DataFrame(mylist)\n",
        "df.columns=[\"label\",\"tweet\"]\n",
        "df"
      ],
      "metadata": {
        "id": "ccqCVXzQ7WJT"
      },
      "execution_count": null,
      "outputs": []
    },
    {
      "cell_type": "code",
      "source": [
        "positive_frequency=len(df.loc[df.label == '1'])\n",
        "negative_frequency=len(df.loc[df.label == \"0\"])\n",
        "print(positive_frequency)\n",
        "print(negative_frequency)\n",
        "from collections import Counter"
      ],
      "metadata": {
        "id": "1VejeP3F9MAF"
      },
      "execution_count": null,
      "outputs": []
    },
    {
      "cell_type": "code",
      "source": [
        "df['tweet'] = df.tweet.apply(lambda x:re.sub(r'[^\\w\\s]', '', x))\n",
        "df['tweet'] = df.tweet.apply(lambda x:x.strip())\n",
        "df['tweet'] = df.tweet.apply(lambda x:x.replace(\"USER\", \"\"))"
      ],
      "metadata": {
        "id": "vr4aeJSfICix"
      },
      "execution_count": null,
      "outputs": []
    },
    {
      "cell_type": "code",
      "source": [
        "df['tweet'] "
      ],
      "metadata": {
        "id": "flN072503H1h"
      },
      "execution_count": null,
      "outputs": []
    },
    {
      "cell_type": "code",
      "source": [
        "df['tweet'] =df.tweet.apply(lambda x:''.join(x))\n",
        "df[\"tweet\"]= df.tweet.apply(lambda x:\" \".join(x.split()))\n",
        " "
      ],
      "metadata": {
        "id": "pYuYzLkYIw8-"
      },
      "execution_count": null,
      "outputs": []
    },
    {
      "cell_type": "code",
      "source": [
        "V_freq = Counter(\" \".join(df['tweet'].values.tolist()).split(\" \"))\n",
        "print(len(V_freq))"
      ],
      "metadata": {
        "id": "pFptRTYF-Duu"
      },
      "execution_count": null,
      "outputs": []
    },
    {
      "cell_type": "markdown",
      "source": [],
      "metadata": {
        "id": "dMTbciCCI-Me"
      }
    },
    {
      "cell_type": "code",
      "source": [
        "freq_pos = Counter(\" \".join(df.loc[df.label=='1']['tweet'].values.tolist()).split(\" \")) \n",
        "\n",
        "freq_neg = Counter(\" \".join(df.loc[df.label=='0']['tweet'].values.tolist()).split(\" \")) \n"
      ],
      "metadata": {
        "id": "-RnxDTEACHGS"
      },
      "execution_count": null,
      "outputs": []
    },
    {
      "cell_type": "code",
      "source": [
        "print(len(freq_pos))\n",
        "print(len(freq_neg))"
      ],
      "metadata": {
        "id": "nlDC_g_cacPb"
      },
      "execution_count": null,
      "outputs": []
    },
    {
      "cell_type": "code",
      "source": [],
      "metadata": {
        "id": "VUCjPxemvMX-"
      },
      "execution_count": null,
      "outputs": []
    },
    {
      "cell_type": "code",
      "source": [
        "total_porobaility_for_pos=((len(freq_pos)/len(V_freq)))\n",
        "print(total_porobaility_for_pos)"
      ],
      "metadata": {
        "id": "jLqs_K4D_-tA"
      },
      "execution_count": null,
      "outputs": []
    },
    {
      "cell_type": "code",
      "source": [
        "total_porobaility_for_neg=(len(freq_neg)/len(V_freq))\n",
        "print(total_porobaility_for_neg)"
      ],
      "metadata": {
        "id": "8k9EbQqg3vbn"
      },
      "execution_count": null,
      "outputs": []
    },
    {
      "cell_type": "code",
      "source": [
        "def pos_word_loglikelihood(w):\n",
        "    if w in freq_pos:\n",
        "      p_w_pos=float(freq_pos.get(w,0))/len(V_freq)\n",
        "      return p_w_pos\n",
        "    else:\n",
        "      return 1\n",
        "    "
      ],
      "metadata": {
        "id": "hgr06cEaApNO"
      },
      "execution_count": null,
      "outputs": []
    },
    {
      "cell_type": "code",
      "source": [
        "def neg_word_loglikelihood(w):\n",
        "  if w in freq_neg:\n",
        "    p_w_neg =float(freq_neg.get(w,0))/len(V_freq)\n",
        "    return p_w_neg\n",
        "  else:\n",
        "    return 1"
      ],
      "metadata": {
        "id": "HwIYJLnmeXZ1"
      },
      "execution_count": null,
      "outputs": []
    },
    {
      "cell_type": "code",
      "source": [
        "def total_score_label(mytxt):\n",
        "  mytxt=mytxt.split()\n",
        "  pos_score = total_porobaility_for_pos \n",
        "  neg_score = total_porobaility_for_neg\n",
        "  for w in mytxt:\n",
        "      pos_score= pos_score*pos_word_loglikelihood(w)\n",
        "      neg_score= neg_score*neg_word_loglikelihood(w)\n",
        "  max_value=max(pos_score,neg_score)\n",
        "  if max_value == pos_score:\n",
        "    return 1\n",
        "  else:\n",
        "    return 0\n",
        "\n"
      ],
      "metadata": {
        "id": "LSqrW5GtDwP2"
      },
      "execution_count": null,
      "outputs": []
    },
    {
      "cell_type": "code",
      "source": [
        "df['total_prediction']=df.tweet.apply(lambda x:total_score_label(x))\n",
        "\n",
        "\n"
      ],
      "metadata": {
        "id": "2hdxKXGLxRlL"
      },
      "execution_count": null,
      "outputs": []
    },
    {
      "cell_type": "code",
      "source": [
        "df['label'] = df.label.apply(lambda x:int(x))"
      ],
      "metadata": {
        "id": "ACH61WRqJlWh"
      },
      "execution_count": null,
      "outputs": []
    },
    {
      "cell_type": "code",
      "source": [
        "accuracy = accuracy_score(df['label'], df['total_prediction'])"
      ],
      "metadata": {
        "id": "eMRMYyIefI1A"
      },
      "execution_count": null,
      "outputs": []
    },
    {
      "cell_type": "code",
      "source": [
        "accuracy"
      ],
      "metadata": {
        "id": "mrD1n37mdg2w"
      },
      "execution_count": null,
      "outputs": []
    },
    {
      "cell_type": "code",
      "source": [
        "df['total_prediction'].value_counts()"
      ],
      "metadata": {
        "id": "3hOnKgN1DV7g"
      },
      "execution_count": null,
      "outputs": []
    },
    {
      "cell_type": "code",
      "source": [
        "df['total_prediction']"
      ],
      "metadata": {
        "id": "SZCJnUJiFpaB"
      },
      "execution_count": null,
      "outputs": []
    },
    {
      "cell_type": "markdown",
      "source": [],
      "metadata": {
        "id": "2x1IuO11AkY5"
      }
    }
  ]
}