{
  "nbformat": 4,
  "nbformat_minor": 0,
  "metadata": {
    "colab": {
      "provenance": [],
      "collapsed_sections": [],
      "private_outputs": true,
      "authorship_tag": "ABX9TyN9l5RYcFTEKvAgCk+mP1eF",
      "include_colab_link": true
    },
    "kernelspec": {
      "name": "python3",
      "display_name": "Python 3"
    },
    "language_info": {
      "name": "python"
    }
  },
  "cells": [
    {
      "cell_type": "markdown",
      "metadata": {
        "id": "view-in-github",
        "colab_type": "text"
      },
      "source": [
        "<a href=\"https://colab.research.google.com/github/saravanamuthu1/sentiment_analysis/blob/main/sentiment_analysis_sractch.ipynb\" target=\"_parent\"><img src=\"https://colab.research.google.com/assets/colab-badge.svg\" alt=\"Open In Colab\"/></a>"
      ]
    },
    {
      "cell_type": "code",
      "execution_count": null,
      "metadata": {
        "id": "NsmTGAPZpG6h"
      },
      "outputs": [],
      "source": [
        "mylist=[]\n",
        "testfile = open('train-v2.tsv', 'r')\n",
        "for line in testfile:\n",
        "  value=line.rstrip(\"\\n\").split(\"\\t\")\n",
        "  mylist.append(line.rstrip(\"\\n\").split(\"\\t\"))\n"
      ]
    },
    {
      "cell_type": "code",
      "source": [
        "train_set,test_set=mylist[0:70000],mylist[70000:80000]"
      ],
      "metadata": {
        "id": "1ULncJ7Wo5gd"
      },
      "execution_count": null,
      "outputs": []
    },
    {
      "cell_type": "markdown",
      "source": [
        "get the probability"
      ],
      "metadata": {
        "id": "tLalRUlmI6Rd"
      }
    },
    {
      "cell_type": "markdown",
      "source": [],
      "metadata": {
        "id": "wPHV6Qbtm-k1"
      }
    },
    {
      "cell_type": "code",
      "source": [
        "import pandas as pd\n",
        "import numpy as np\n",
        "from sklearn.metrics import accuracy_score\n",
        "import re"
      ],
      "metadata": {
        "id": "o6K1EdiglRZ_"
      },
      "execution_count": null,
      "outputs": []
    },
    {
      "cell_type": "code",
      "source": [
        "df=pd.DataFrame(mylist)\n",
        "\n",
        "df.columns=[\"label\",\"tweet\"]"
      ],
      "metadata": {
        "id": "ccqCVXzQ7WJT"
      },
      "execution_count": null,
      "outputs": []
    },
    {
      "cell_type": "code",
      "source": [
        "df"
      ],
      "metadata": {
        "id": "CFaXGCLyWxvC"
      },
      "execution_count": null,
      "outputs": []
    },
    {
      "cell_type": "code",
      "source": [
        "df1=pd.DataFrame(train_set)\n",
        "df1.columns=[\"train_label\",\"train_value\"]"
      ],
      "metadata": {
        "id": "-YCK5eTZoO26"
      },
      "execution_count": null,
      "outputs": []
    },
    {
      "cell_type": "code",
      "source": [
        "df1"
      ],
      "metadata": {
        "id": "si6Has3Mp5Bz"
      },
      "execution_count": null,
      "outputs": []
    },
    {
      "cell_type": "code",
      "source": [
        "df2=pd.DataFrame(test_set)\n",
        "df2.columns=[\"test_label\",\"test_value\"]"
      ],
      "metadata": {
        "id": "RHEYKVscpQ4V"
      },
      "execution_count": null,
      "outputs": []
    },
    {
      "cell_type": "code",
      "source": [
        "positive_frequency=len(df.loc[df.label == '1'])\n",
        "negative_frequency=len(df.loc[df.label == \"0\"])\n",
        "print(positive_frequency)\n",
        "print(negative_frequency)\n",
        "from collections import Counter"
      ],
      "metadata": {
        "id": "1VejeP3F9MAF"
      },
      "execution_count": null,
      "outputs": []
    },
    {
      "cell_type": "code",
      "source": [
        "positive_frequency=len(df1.loc[df1.train_label == '1'])\n",
        "negative_frequency=len(df1.loc[df1.train_label == \"0\"])\n",
        "print(positive_frequency)\n",
        "print(negative_frequency)"
      ],
      "metadata": {
        "id": "Vi71BrbHpXpF"
      },
      "execution_count": null,
      "outputs": []
    },
    {
      "cell_type": "code",
      "source": [
        "df['tweet'] = df.tweet.apply(lambda x:re.sub(r'[^\\w\\s]', '', x))\n",
        "df['tweet'] = df.tweet.apply(lambda x:x.strip())\n",
        "df['tweet'] = df.tweet.apply(lambda x:x.replace(\"USER\", \"\"))"
      ],
      "metadata": {
        "id": "vr4aeJSfICix"
      },
      "execution_count": null,
      "outputs": []
    },
    {
      "cell_type": "code",
      "source": [
        "df1['train_value'] = df1.train_value.apply(lambda x:re.sub(r'[^\\w\\s]', '', x))\n",
        "df1['train_value'] = df1.train_value.apply(lambda x:x.strip())\n",
        "df1['train_value'] = df1.train_value.apply(lambda x:x.replace(\"USER\", \"\"))"
      ],
      "metadata": {
        "id": "ADGAejjepne-"
      },
      "execution_count": null,
      "outputs": []
    },
    {
      "cell_type": "code",
      "source": [
        "df2['test_value'] = df2.test_value.apply(lambda x:re.sub(r'[^\\w\\s]', '', x))\n",
        "df2['test_value'] = df2.test_value.apply(lambda x:x.strip())\n",
        "df2['test_value'] = df2.test_value.apply(lambda x:x.replace(\"@USER\", \"\"))"
      ],
      "metadata": {
        "id": "flN072503H1h"
      },
      "execution_count": null,
      "outputs": []
    },
    {
      "cell_type": "code",
      "source": [
        "df['tweet'] =df.tweet.apply(lambda x:''.join(x))\n",
        "df[\"tweet\"]= df.tweet.apply(lambda x:\" \".join(x.split()))\n",
        " "
      ],
      "metadata": {
        "id": "pYuYzLkYIw8-"
      },
      "execution_count": null,
      "outputs": []
    },
    {
      "cell_type": "code",
      "source": [
        "df1['train_value'] =df1.train_value.apply(lambda x:''.join(x))\n",
        "df1[\"train_value\"]= df1.train_value.apply(lambda x:\" \".join(x.split()))\n",
        " "
      ],
      "metadata": {
        "id": "ljvVMFMrqDca"
      },
      "execution_count": null,
      "outputs": []
    },
    {
      "cell_type": "code",
      "source": [
        "V_freq = Counter(\" \".join(df['tweet'].values.tolist()).split(\" \"))\n",
        "print(len(V_freq))"
      ],
      "metadata": {
        "id": "pFptRTYF-Duu"
      },
      "execution_count": null,
      "outputs": []
    },
    {
      "cell_type": "code",
      "source": [
        "V_freq_train=Counter(\" \".join(df1['train_value'].values.tolist()).split(\" \"))"
      ],
      "metadata": {
        "id": "yZoQyU4HqNs3"
      },
      "execution_count": null,
      "outputs": []
    },
    {
      "cell_type": "markdown",
      "source": [],
      "metadata": {
        "id": "dMTbciCCI-Me"
      }
    },
    {
      "cell_type": "code",
      "source": [
        "freq_pos = Counter(\" \".join(df.loc[df.label=='1']['tweet'].values.tolist()).split(\" \")) \n",
        "\n",
        "freq_neg = Counter(\" \".join(df.loc[df.label=='0']['tweet'].values.tolist()).split(\" \")) \n"
      ],
      "metadata": {
        "id": "-RnxDTEACHGS"
      },
      "execution_count": null,
      "outputs": []
    },
    {
      "cell_type": "code",
      "source": [
        "freq_pos_train = Counter(\" \".join(df1.loc[df1.train_label=='1']['train_value'].values.tolist()).split(\" \")) \n",
        "\n",
        "freq_neg_train = Counter(\" \".join(df1.loc[df1.train_label=='0']['train_value'].values.tolist()).split(\" \")) "
      ],
      "metadata": {
        "id": "Vmwq-OQGqZna"
      },
      "execution_count": null,
      "outputs": []
    },
    {
      "cell_type": "code",
      "source": [
        "print(len(freq_pos))\n",
        "print(len(freq_neg))"
      ],
      "metadata": {
        "id": "nlDC_g_cacPb"
      },
      "execution_count": null,
      "outputs": []
    },
    {
      "cell_type": "code",
      "source": [
        "print(len(freq_pos_train))\n",
        "print(len(freq_neg_train))"
      ],
      "metadata": {
        "id": "VUCjPxemvMX-"
      },
      "execution_count": null,
      "outputs": []
    },
    {
      "cell_type": "code",
      "source": [
        "total_porobaility_for_pos=((len(freq_pos)/len(V_freq)))\n",
        "print(total_porobaility_for_pos)"
      ],
      "metadata": {
        "id": "jLqs_K4D_-tA"
      },
      "execution_count": null,
      "outputs": []
    },
    {
      "cell_type": "code",
      "source": [
        "total_porobaility_for_neg=(len(freq_neg)/len(V_freq))\n",
        "print(total_porobaility_for_neg)"
      ],
      "metadata": {
        "id": "8k9EbQqg3vbn"
      },
      "execution_count": null,
      "outputs": []
    },
    {
      "cell_type": "code",
      "source": [
        "total_porobaility_for_pos_train=((len(freq_pos_train)/len(V_freq_train)))\n",
        "print(total_porobaility_for_pos_train)\n",
        "total_porobaility_for_neg_train=(len(freq_neg_train)/len(V_freq_train))\n",
        "print(total_porobaility_for_neg_train)"
      ],
      "metadata": {
        "id": "68p-L-2uqvAG"
      },
      "execution_count": null,
      "outputs": []
    },
    {
      "cell_type": "code",
      "source": [
        "def pos_word_loglikelihood(w):\n",
        "    if w in freq_pos:\n",
        "      p_w_pos=float(freq_pos.get(w,0))/len(V_freq)\n",
        "      return p_w_pos\n",
        "    else:\n",
        "      return 0\n",
        "    "
      ],
      "metadata": {
        "id": "hgr06cEaApNO"
      },
      "execution_count": null,
      "outputs": []
    },
    {
      "cell_type": "code",
      "source": [
        "def neg_word_loglikelihood(w):\n",
        "  if w in freq_neg:\n",
        "    p_w_neg =float(freq_neg.get(w,0))/len(V_freq)\n",
        "    return p_w_neg\n",
        "  return 0\n"
      ],
      "metadata": {
        "id": "HwIYJLnmeXZ1"
      },
      "execution_count": null,
      "outputs": []
    },
    {
      "cell_type": "code",
      "source": [
        "def pos_word_loglikelihood_train(w):\n",
        "    if w in freq_pos_train:\n",
        "      p_w_pos=float(freq_pos_train.get(w,0))/len(V_freq_train)\n",
        "      return p_w_pos\n",
        "    else:\n",
        "      return 0"
      ],
      "metadata": {
        "id": "5pNnUBhnrSKI"
      },
      "execution_count": null,
      "outputs": []
    },
    {
      "cell_type": "code",
      "source": [
        "def neg_word_loglikelihood_train(w):\n",
        "  if w in freq_neg_train:\n",
        "    p_w_neg =float(freq_neg_train.get(w,0))/len(V_freq_train)\n",
        "    return p_w_neg\n",
        "  return 0\n"
      ],
      "metadata": {
        "id": "ClANifjtrbcg"
      },
      "execution_count": null,
      "outputs": []
    },
    {
      "cell_type": "code",
      "source": [
        "def total_score_label(mytxt):\n",
        "  mytxt=mytxt.split()\n",
        "  mytxt=list(set(mytxt))\n",
        "  pos_score = total_porobaility_for_pos \n",
        "  neg_score = total_porobaility_for_neg\n",
        "  for w in mytxt:\n",
        "      pos_score= pos_score*pos_word_loglikelihood(w)\n",
        "      neg_score= neg_score*neg_word_loglikelihood(w)\n",
        "  max_value=max(pos_score,neg_score)\n",
        "  if max_value == pos_score:\n",
        "    return 1\n",
        "  else:\n",
        "    return 0\n",
        "\n"
      ],
      "metadata": {
        "id": "LSqrW5GtDwP2"
      },
      "execution_count": null,
      "outputs": []
    },
    {
      "cell_type": "code",
      "source": [
        "df['total_prediction']=df.tweet.apply(lambda x:total_score_label(x))\n",
        "\n",
        "df1['total_prediction_train']=df1.train_value.apply(lambda x:total_score_label(x))\n",
        "\n",
        "df2['total_prediction_test']=df2.test_value.apply(lambda x:total_score_label(x))\n"
      ],
      "metadata": {
        "id": "2hdxKXGLxRlL"
      },
      "execution_count": null,
      "outputs": []
    },
    {
      "cell_type": "code",
      "source": [
        "df['label'] = df.label.apply(lambda x:int(x))"
      ],
      "metadata": {
        "id": "ACH61WRqJlWh"
      },
      "execution_count": null,
      "outputs": []
    },
    {
      "cell_type": "code",
      "source": [
        "df1['train_label'] = df1.train_label.apply(lambda x:int(x))\n",
        "accuracy1 = accuracy_score(df1['train_label'], df1['total_prediction_train'])"
      ],
      "metadata": {
        "id": "kETZTOEYvCwu"
      },
      "execution_count": null,
      "outputs": []
    },
    {
      "cell_type": "code",
      "source": [
        "df2['test_label'] = df2.test_label.apply(lambda x:int(x))\n",
        "accuracy2 = accuracy_score(df2['test_label'], df2['total_prediction_test'])"
      ],
      "metadata": {
        "id": "JEwpWS-Rv-fO"
      },
      "execution_count": null,
      "outputs": []
    },
    {
      "cell_type": "code",
      "source": [
        "accuracy2"
      ],
      "metadata": {
        "id": "Bz1T3lyFwrLv"
      },
      "execution_count": null,
      "outputs": []
    },
    {
      "cell_type": "code",
      "source": [
        "accuracy = accuracy_score(df['label'], df['total_prediction'])"
      ],
      "metadata": {
        "id": "eMRMYyIefI1A"
      },
      "execution_count": null,
      "outputs": []
    },
    {
      "cell_type": "code",
      "source": [
        "accuracy"
      ],
      "metadata": {
        "id": "mrD1n37mdg2w"
      },
      "execution_count": null,
      "outputs": []
    },
    {
      "cell_type": "code",
      "source": [
        "accuracy1"
      ],
      "metadata": {
        "id": "sV92FyjivzKI"
      },
      "execution_count": null,
      "outputs": []
    },
    {
      "cell_type": "code",
      "source": [
        "df['total_prediction'].value_counts()"
      ],
      "metadata": {
        "id": "3hOnKgN1DV7g"
      },
      "execution_count": null,
      "outputs": []
    },
    {
      "cell_type": "code",
      "source": [
        "df1['total_prediction_train'].value_counts()"
      ],
      "metadata": {
        "id": "SZCJnUJiFpaB"
      },
      "execution_count": null,
      "outputs": []
    },
    {
      "cell_type": "code",
      "source": [
        "df2['total_prediction_test'].value_counts()"
      ],
      "metadata": {
        "id": "HPgdME8gyI_w"
      },
      "execution_count": null,
      "outputs": []
    },
    {
      "cell_type": "code",
      "source": [
        "value=df2['test_value'][0]"
      ],
      "metadata": {
        "id": "M-eT0LatV86j"
      },
      "execution_count": null,
      "outputs": []
    },
    {
      "cell_type": "markdown",
      "source": [],
      "metadata": {
        "id": "2x1IuO11AkY5"
      }
    }
  ]
}